{
 "cells": [
  {
   "cell_type": "code",
   "execution_count": 63,
   "id": "46d3daf7",
   "metadata": {},
   "outputs": [],
   "source": [
    "import os \n",
    "import numpy as np\n",
    "import cv2\n",
    "import gc"
   ]
  },
  {
   "cell_type": "code",
   "execution_count": 64,
   "id": "89cf8795",
   "metadata": {},
   "outputs": [],
   "source": [
    "#Cargar los datos preprocesados\n",
    "data = np.load('./data/datos_Preprocesados.npz')"
   ]
  },
  {
   "cell_type": "code",
   "execution_count": 65,
   "id": "6f88826c",
   "metadata": {},
   "outputs": [],
   "source": [
    "X = data['arr_0']\n",
    "y = data['arr_1']"
   ]
  },
  {
   "cell_type": "code",
   "execution_count": 66,
   "id": "b5a6703e",
   "metadata": {},
   "outputs": [],
   "source": [
    "#Comprobacion de datos cargados\n",
    "#X.shape, y.shape -->((9959, 150, 150, 3), (9959,))\n"
   ]
  },
  {
   "cell_type": "code",
   "execution_count": 67,
   "id": "43d1dccf",
   "metadata": {},
   "outputs": [],
   "source": [
    "#np.unique(y)-->array(['Mask', 'Mask_Chin', 'Mask_Mouth_Chin', 'Mask_Nose_Mouth'],\n",
    "#      dtype='<U15')"
   ]
  },
  {
   "cell_type": "code",
   "execution_count": 68,
   "id": "6e4ac6f4",
   "metadata": {},
   "outputs": [],
   "source": [
    "#Preprocesar \"y\"\n",
    "\n",
    "from sklearn.preprocessing import OneHotEncoder\n",
    "#La entrada a este transformador debe ser una matriz de números \n",
    "#enteros, indicando los valores tomados por características \n",
    "#categóricas (discretas).El resultado será una matriz dispersa \n",
    "#donde cada columna corresponde a un valor posible de una \n",
    "#característica.\n"
   ]
  },
  {
   "cell_type": "code",
   "execution_count": 69,
   "id": "a8673ea0",
   "metadata": {},
   "outputs": [],
   "source": [
    "onehot = OneHotEncoder()\n",
    "y_onehot = onehot.fit_transform(y.reshape(-1,1))"
   ]
  },
  {
   "cell_type": "code",
   "execution_count": 70,
   "id": "80de378e",
   "metadata": {},
   "outputs": [],
   "source": [
    "#y_onehot --><9959x4 sparse matrix of type '<class 'numpy.float64'>'\n",
    "#\twith 9959 stored elements in Compressed Sparse Row format"
   ]
  },
  {
   "cell_type": "code",
   "execution_count": 71,
   "id": "8669aa6d",
   "metadata": {},
   "outputs": [],
   "source": [
    "y_array = y_onehot.toarray()"
   ]
  },
  {
   "cell_type": "code",
   "execution_count": 72,
   "id": "c7796a02",
   "metadata": {},
   "outputs": [],
   "source": [
    "#y_array -->array([[1., 0., 0., 0.],\n",
    " #      [1., 0., 0., 0.],\n",
    " #      [1., 0., 0., 0.],\n",
    " #     ...,\n",
    " #      [0., 0., 0., 1.],\n",
    " #      [0., 0., 0., 1.],\n",
    " #      [0., 0., 0., 1.]])\n",
    "\n",
    "#Primer columna es para Mask\n",
    "#Primer columna es para Mask_Chin\n",
    "#Primer columna es para Mask_Mouth_Chin\n",
    "#Primer columna es para Mask_Nose_Mouth"
   ]
  },
  {
   "cell_type": "code",
   "execution_count": 73,
   "id": "c04eb53e",
   "metadata": {},
   "outputs": [],
   "source": [
    "#y_array.shape -->(9959, 4)"
   ]
  },
  {
   "cell_type": "code",
   "execution_count": 74,
   "id": "05a7a052",
   "metadata": {},
   "outputs": [],
   "source": [
    "#Dividir datos en el entrenamiento y las pruebas\n",
    "\n",
    "from sklearn.model_selection import train_test_split\n",
    "#Divido los datos en 80% entrenamiento y 20% para el mejor tipo\n",
    "x_train, x_test, y_train, y_test = train_test_split(X,y_array,test_size=0.2,random_state=42)"
   ]
  },
  {
   "cell_type": "code",
   "execution_count": 75,
   "id": "54fad7b5",
   "metadata": {},
   "outputs": [],
   "source": [
    "#x_train.shape, x_test.shape, y_train.shape, y_test.shape\n",
    "#((7967, 150, 150, 3), (1992, 150, 150, 3), (7967, 4), (1992, 4))"
   ]
  },
  {
   "cell_type": "code",
   "execution_count": 97,
   "id": "290dd94b",
   "metadata": {},
   "outputs": [],
   "source": [
    "import tensorflow as tf\n",
    "from tensorflow.keras import layers\n",
    "from tensorflow.keras import Sequential\n"
   ]
  },
  {
   "cell_type": "code",
   "execution_count": 104,
   "id": "c0dc26e7",
   "metadata": {},
   "outputs": [],
   "source": [
    "#Red Neuronal Convulsional\n",
    "\n",
    "Modelo = Sequential([\n",
    "    #Tres capas\n",
    "    layers.Conv2D(16,3,padding='same',input_shape=(150,150,3),activation='relu'),\n",
    "    layers.MaxPool2D(),\n",
    "    layers.Conv2D(32,3,padding='same',activation='relu'),\n",
    "    layers.MaxPool2D(),\n",
    "    layers.Conv2D(64,3,padding='same',activation='relu'),\n",
    "    layers.MaxPool2D(),\n",
    "    #Aplanar\n",
    "    layers.Flatten(),\n",
    "    layers.Dense(192,activation='relu'),\n",
    "    layers.Dense(28,activation='relu'),\n",
    "    #Funcion sigmoidea\n",
    "    #La función sigmoidea es una función logística matemática. \n",
    "    #Se usa comúnmente en estadísticas, procesamiento de señales de audio,\n",
    "    #bioquímica y la función de activación en neuronas artificiales. \n",
    "    #La fórmula para la función sigmoidea es F(x) = 1/(1 + e^(-x))\n",
    "    layers.Dense(4,activation='sigmoid')\n",
    "])\n",
    "#Compilar Red Neuronal Convulsional\n",
    "Modelo.compile(optimizer=tf.keras.optimizers.Adam(learning_rate=0.001),loss=tf.keras.losses.categorical_crossentropy,metrics=['accuracy'])"
   ]
  },
  {
   "cell_type": "code",
   "execution_count": 109,
   "id": "bf49f318",
   "metadata": {},
   "outputs": [],
   "source": [
    "#Modelo.summary()\n",
    "#Salida:\n",
    "#Model: \"sequential_9\"\n",
    "#_________________________________________________________________\n",
    "# Layer (type)                Output Shape              Param #   \n",
    "#=================================================================\n",
    "# conv2d_33 (Conv2D)          (None, 150, 150, 16)      448       \n",
    "#                                                                 \n",
    "# max_pooling2d_33 (MaxPoolin  (None, 75, 75, 16)       0         \n",
    "# g2D)                                                            \n",
    "#                                                                 \n",
    "# conv2d_34 (Conv2D)          (None, 75, 75, 32)        4640      \n",
    "#                                                                 \n",
    "# max_pooling2d_34 (MaxPoolin  (None, 37, 37, 32)       0         \n",
    "# g2D)                                                            \n",
    "#                                                                 \n",
    "# conv2d_35 (Conv2D)          (None, 37, 37, 64)        18496     \n",
    "#                                                                 \n",
    "# max_pooling2d_35 (MaxPoolin  (None, 18, 18, 64)       0         \n",
    "# g2D)                                                            \n",
    "#                                                                 \n",
    "# flatten_9 (Flatten)         (None, 20736)             0         \n",
    "#                                                                 \n",
    "# dense_27 (Dense)            (None, 192)               3981504   \n",
    "#                                                                 \n",
    "# dense_28 (Dense)            (None, 28)                5404      \n",
    "#                                                                 \n",
    "# dense_29 (Dense)            (None, 4)                 116       \n",
    "#                                                                 \n",
    "#=================================================================\n",
    "#Total params: 4,010,608\n",
    "#Trainable params: 4,010,608\n",
    "#Non-trainable params: 0\n",
    "#_________________________________________________________________"
   ]
  },
  {
   "cell_type": "code",
   "execution_count": 120,
   "id": "efd1c25d",
   "metadata": {},
   "outputs": [
    {
     "name": "stdout",
     "output_type": "stream",
     "text": [
      "Epoch 1/10\n",
      "266/266 [==============================] - 115s 431ms/step - loss: 3.7204e-05 - accuracy: 1.0000 - val_loss: 0.0769 - val_accuracy: 0.9859\n",
      "Epoch 2/10\n",
      "266/266 [==============================] - 110s 412ms/step - loss: 2.5185e-05 - accuracy: 1.0000 - val_loss: 0.0791 - val_accuracy: 0.9859\n",
      "Epoch 3/10\n",
      "266/266 [==============================] - 109s 408ms/step - loss: 1.8646e-05 - accuracy: 1.0000 - val_loss: 0.0803 - val_accuracy: 0.9859\n",
      "Epoch 4/10\n",
      "266/266 [==============================] - 113s 425ms/step - loss: 1.4343e-05 - accuracy: 1.0000 - val_loss: 0.0824 - val_accuracy: 0.9859\n",
      "Epoch 5/10\n",
      "266/266 [==============================] - 114s 428ms/step - loss: 1.1209e-05 - accuracy: 1.0000 - val_loss: 0.0844 - val_accuracy: 0.9859\n",
      "Epoch 6/10\n",
      "266/266 [==============================] - 114s 427ms/step - loss: 9.0067e-06 - accuracy: 1.0000 - val_loss: 0.0856 - val_accuracy: 0.9859\n",
      "Epoch 7/10\n",
      "266/266 [==============================] - 112s 422ms/step - loss: 7.3067e-06 - accuracy: 1.0000 - val_loss: 0.0871 - val_accuracy: 0.9859\n",
      "Epoch 8/10\n",
      "266/266 [==============================] - 112s 422ms/step - loss: 5.9615e-06 - accuracy: 1.0000 - val_loss: 0.0884 - val_accuracy: 0.9859\n",
      "Epoch 9/10\n",
      "266/266 [==============================] - 112s 421ms/step - loss: 4.9038e-06 - accuracy: 1.0000 - val_loss: 0.0902 - val_accuracy: 0.9859\n",
      "Epoch 10/10\n",
      "266/266 [==============================] - 113s 424ms/step - loss: 4.1179e-06 - accuracy: 1.0000 - val_loss: 0.0919 - val_accuracy: 0.9854\n"
     ]
    }
   ],
   "source": [
    "#Entrenamiento de Red Neuronal Convulcional\n",
    "\n",
    "history = Modelo.fit(x=x_train, y=y_train,validation_data=(x_test,y_test),batch_size=30,epochs=10)\n",
    "\n",
    "#Epoch 1/10\n",
    "#266/266 [==============================] - 114s 423ms/step - loss: 0.1970 - accuracy: 0.9296 - val_loss: 0.1415 - val_accuracy: 0.9598\n",
    "#Epoch 2/10\n",
    "#266/266 [==============================] - 108s 404ms/step - loss: 0.0720 - accuracy: 0.9770 - val_loss: 0.0920 - val_accuracy: 0.9719\n",
    "#Epoch 3/10\n",
    "#266/266 [==============================] - 110s 412ms/step - loss: 0.0475 - accuracy: 0.9851 - val_loss: 0.0819 - val_accuracy: 0.9739\n",
    "#Epoch 4/10\n",
    "#266/266 [==============================] - 109s 409ms/step - loss: 0.0284 - accuracy: 0.9898 - val_loss: 0.0642 - val_accuracy: 0.9789\n",
    "#Epoch 5/10\n",
    "#266/266 [==============================] - 111s 416ms/step - loss: 0.0239 - accuracy: 0.9913 - val_loss: 0.1046 - val_accuracy: 0.9709\n",
    "#Epoch 6/10\n",
    "#266/266 [==============================] - 112s 422ms/step - loss: 0.0147 - accuracy: 0.9947 - val_loss: 0.0582 - val_accuracy: 0.9864\n",
    "#Epoch 7/10\n",
    "#266/266 [==============================] - 112s 419ms/step - loss: 0.0101 - accuracy: 0.9971 - val_loss: 0.0937 - val_accuracy: 0.9834\n",
    "#Epoch 8/10\n",
    "#266/266 [==============================] - 112s 420ms/step - loss: 0.0074 - accuracy: 0.9974 - val_loss: 0.0859 - val_accuracy: 0.9834\n",
    "#Epoch 9/10\n",
    "#266/266 [==============================] - 112s 422ms/step - loss: 3.7353e-04 - accuracy: 1.0000 - val_loss: 0.0725 - val_accuracy: 0.9844\n",
    "#Epoch 10/10\n",
    "#266/266 [==============================] - 112s 421ms/step - loss: 8.0232e-05 - accuracy: 1.0000 - val_loss: 0.0748 - val_accuracy: 0.9859"
   ]
  },
  {
   "cell_type": "code",
   "execution_count": 121,
   "id": "3947a607",
   "metadata": {},
   "outputs": [],
   "source": [
    "import pandas as pd\n",
    "import matplotlib.pyplot as plt"
   ]
  },
  {
   "cell_type": "code",
   "execution_count": 122,
   "id": "c9d439ab",
   "metadata": {},
   "outputs": [],
   "source": [
    "history_df = pd.DataFrame(history.history)"
   ]
  },
  {
   "cell_type": "code",
   "execution_count": 123,
   "id": "f26c1dac",
   "metadata": {},
   "outputs": [
    {
     "data": {
      "text/html": [
       "<div>\n",
       "<style scoped>\n",
       "    .dataframe tbody tr th:only-of-type {\n",
       "        vertical-align: middle;\n",
       "    }\n",
       "\n",
       "    .dataframe tbody tr th {\n",
       "        vertical-align: top;\n",
       "    }\n",
       "\n",
       "    .dataframe thead th {\n",
       "        text-align: right;\n",
       "    }\n",
       "</style>\n",
       "<table border=\"1\" class=\"dataframe\">\n",
       "  <thead>\n",
       "    <tr style=\"text-align: right;\">\n",
       "      <th></th>\n",
       "      <th>loss</th>\n",
       "      <th>accuracy</th>\n",
       "      <th>val_loss</th>\n",
       "      <th>val_accuracy</th>\n",
       "    </tr>\n",
       "  </thead>\n",
       "  <tbody>\n",
       "    <tr>\n",
       "      <th>0</th>\n",
       "      <td>0.000037</td>\n",
       "      <td>1.0</td>\n",
       "      <td>0.076918</td>\n",
       "      <td>0.985944</td>\n",
       "    </tr>\n",
       "    <tr>\n",
       "      <th>1</th>\n",
       "      <td>0.000025</td>\n",
       "      <td>1.0</td>\n",
       "      <td>0.079110</td>\n",
       "      <td>0.985944</td>\n",
       "    </tr>\n",
       "    <tr>\n",
       "      <th>2</th>\n",
       "      <td>0.000019</td>\n",
       "      <td>1.0</td>\n",
       "      <td>0.080261</td>\n",
       "      <td>0.985944</td>\n",
       "    </tr>\n",
       "    <tr>\n",
       "      <th>3</th>\n",
       "      <td>0.000014</td>\n",
       "      <td>1.0</td>\n",
       "      <td>0.082448</td>\n",
       "      <td>0.985944</td>\n",
       "    </tr>\n",
       "    <tr>\n",
       "      <th>4</th>\n",
       "      <td>0.000011</td>\n",
       "      <td>1.0</td>\n",
       "      <td>0.084385</td>\n",
       "      <td>0.985944</td>\n",
       "    </tr>\n",
       "    <tr>\n",
       "      <th>5</th>\n",
       "      <td>0.000009</td>\n",
       "      <td>1.0</td>\n",
       "      <td>0.085578</td>\n",
       "      <td>0.985944</td>\n",
       "    </tr>\n",
       "    <tr>\n",
       "      <th>6</th>\n",
       "      <td>0.000007</td>\n",
       "      <td>1.0</td>\n",
       "      <td>0.087148</td>\n",
       "      <td>0.985944</td>\n",
       "    </tr>\n",
       "    <tr>\n",
       "      <th>7</th>\n",
       "      <td>0.000006</td>\n",
       "      <td>1.0</td>\n",
       "      <td>0.088443</td>\n",
       "      <td>0.985944</td>\n",
       "    </tr>\n",
       "    <tr>\n",
       "      <th>8</th>\n",
       "      <td>0.000005</td>\n",
       "      <td>1.0</td>\n",
       "      <td>0.090232</td>\n",
       "      <td>0.985944</td>\n",
       "    </tr>\n",
       "    <tr>\n",
       "      <th>9</th>\n",
       "      <td>0.000004</td>\n",
       "      <td>1.0</td>\n",
       "      <td>0.091874</td>\n",
       "      <td>0.985442</td>\n",
       "    </tr>\n",
       "  </tbody>\n",
       "</table>\n",
       "</div>"
      ],
      "text/plain": [
       "       loss  accuracy  val_loss  val_accuracy\n",
       "0  0.000037       1.0  0.076918      0.985944\n",
       "1  0.000025       1.0  0.079110      0.985944\n",
       "2  0.000019       1.0  0.080261      0.985944\n",
       "3  0.000014       1.0  0.082448      0.985944\n",
       "4  0.000011       1.0  0.084385      0.985944\n",
       "5  0.000009       1.0  0.085578      0.985944\n",
       "6  0.000007       1.0  0.087148      0.985944\n",
       "7  0.000006       1.0  0.088443      0.985944\n",
       "8  0.000005       1.0  0.090232      0.985944\n",
       "9  0.000004       1.0  0.091874      0.985442"
      ]
     },
     "execution_count": 123,
     "metadata": {},
     "output_type": "execute_result"
    }
   ],
   "source": [
    "history_df\n",
    "#\tloss\taccuracy\tval_loss\tval_accuracy\n",
    "#0\t0.196973\t0.929585\t0.141519\t0.959839\n",
    "#1\t0.071979\t0.977030\t0.092038\t0.971888\n",
    "#2\t0.047549\t0.985063\t0.081927\t0.973896\n",
    "#3\t0.028448\t0.989833\t0.064183\t0.978916\n",
    "#4\t0.023866\t0.991339\t0.104646\t0.970884\n",
    "#5\t0.014749\t0.994728\t0.058203\t0.986446\n",
    "#6\t0.010149\t0.997113\t0.093743\t0.983434\n",
    "#7\t0.007414\t0.997364\t0.085877\t0.983434\n",
    "#8\t0.000374\t1.000000\t0.072504\t0.984438\n",
    "#9\t0.000080\t1.000000\t0.074789\t0.985944"
   ]
  },
  {
   "cell_type": "code",
   "execution_count": 129,
   "id": "d2b134c0",
   "metadata": {},
   "outputs": [
    {
     "data": {
      "image/png": "[encoded data removed]",
      "text/plain": [
       "<Figure size 432x288 with 1 Axes>"
      ]
     },
     "metadata": {
      "needs_background": "light"
     },
     "output_type": "display_data"
    }
   ],
   "source": [
    "history_df[['loss','val_loss']].plot(kind='line')\n",
    "plt.xlabel('Epochs')\n",
    "plt.ylabel('Loss')\n",
    "plt.xticks(list(range(10)),list(range(1,11)))\n",
    "plt.show()\n",
    "#\tloss\tval_loss\n",
    "#0\t0.196973\t0.141519\n",
    "#1\t0.071979\t0.092038\n",
    "#2\t0.047549\t0.081927\n",
    "#3\t0.028448\t0.064183\n",
    "#4\t0.023866\t0.104646\n",
    "#5\t0.014749\t0.058203\n",
    "#6\t0.010149\t0.093743\n",
    "#7\t0.007414\t0.085877\n",
    "#8\t0.000374\t0.072504\n",
    "#9\t0.000080\t0.074789"
   ]
  },
  {
   "cell_type": "code",
   "execution_count": 128,
   "id": "b1d0f81c",
   "metadata": {},
   "outputs": [
    {
     "data": {
      "image/png": "[encoded data removed]",
      "text/plain": [
       "<Figure size 432x288 with 1 Axes>"
      ]
     },
     "metadata": {
      "needs_background": "light"
     },
     "output_type": "display_data"
    }
   ],
   "source": [
    "history_df[['accuracy','val_accuracy']].plot(kind='line')\n",
    "plt.xlabel('Epochs')\n",
    "plt.ylabel('Loss')\n",
    "plt.xticks(list(range(10)),list(range(1,11)))\n",
    "plt.show()"
   ]
  },
  {
   "cell_type": "code",
   "execution_count": 130,
   "id": "739a57e3",
   "metadata": {},
   "outputs": [
    {
     "name": "stdout",
     "output_type": "stream",
     "text": [
      "INFO:tensorflow:Assets written to: Modelo_Cara_CNN\\assets\n"
     ]
    }
   ],
   "source": [
    "#Guardar Modelo \n",
    "Modelo.save('Modelo_Cara_CNN')"
   ]
  },
  {
   "cell_type": "code",
   "execution_count": 131,
   "id": "bedb02d1",
   "metadata": {},
   "outputs": [
    {
     "data": {
      "text/plain": [
       "[array(['Mask', 'Mask_Chin', 'Mask_Mouth_Chin', 'Mask_Nose_Mouth'],\n",
       "       dtype='<U15')]"
      ]
     },
     "execution_count": 131,
     "metadata": {},
     "output_type": "execute_result"
    }
   ],
   "source": [
    "onehot.categories_"
   ]
  },
  {
   "cell_type": "code",
   "execution_count": null,
   "id": "f5f312e0",
   "metadata": {},
   "outputs": [],
   "source": []
  }
 ],
 "metadata": {
  "kernelspec": {
   "display_name": "Python 3 (ipykernel)",
   "language": "python",
   "name": "python3"
  },
  "language_info": {
   "codemirror_mode": {
    "name": "ipython",
    "version": 3
   },
   "file_extension": ".py",
   "mimetype": "text/x-python",
   "name": "python",
   "nbconvert_exporter": "python",
   "pygments_lexer": "ipython3",
   "version": "3.10.2"
  }
 },
 "nbformat": 4,
 "nbformat_minor": 5
}

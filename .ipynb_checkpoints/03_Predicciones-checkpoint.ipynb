{
 "cells": [
  {
   "cell_type": "code",
   "execution_count": 3,
   "id": "6de798f6",
   "metadata": {},
   "outputs": [],
   "source": [
    "import numpy as np\n",
    "import cv2\n",
    "import tensorflow as tf"
   ]
  },
  {
   "cell_type": "code",
   "execution_count": 4,
   "id": "e2a9d03e",
   "metadata": {},
   "outputs": [],
   "source": [
    "#Modelo de deteccion de caras\n",
    "modelo_deteccion_cara = cv2.dnn.readNetFromCaffe('./models/deploy.prototxt.txt',\n",
    "                                                './models/res10_300x300_ssd_iter_140000_fp16.caffemodel')\n",
    "#Modelo de deteccion de barbijo\n",
    "Modelo = tf.keras.models.load_model('Modelo_Cara_CNN/')"
   ]
  },
  {
   "cell_type": "code",
   "execution_count": 5,
   "id": "37c005b7",
   "metadata": {},
   "outputs": [],
   "source": [
    "#Informacion de las etiquetas\n",
    "etiquetas = ['Barbijo bien puesto', 'Sin Barbijo', 'Falta cubrir nariz', 'Falta cubrir menton']\n",
    "\n",
    "def getColor (etiqueta):\n",
    "    if etiqueta =='Barbijo bien puesto':\n",
    "        color=(0,255,0)\n",
    "\n",
    "    elif etiqueta == 'Sin Barbijo':\n",
    "        color = (0,0,255)\n",
    "\n",
    "    elif etiqueta == 'Falta cubrir nariz':\n",
    "        color = (0,100,255)\n",
    "\n",
    "    else:\n",
    "        color = (0,255,255)\n",
    "    return color"
   ]
  },
  {
   "cell_type": "code",
   "execution_count": 6,
   "id": "edbd86e8",
   "metadata": {},
   "outputs": [
    {
     "data": {
      "text/plain": [
       "(0, 255, 255)"
      ]
     },
     "execution_count": 6,
     "metadata": {},
     "output_type": "execute_result"
    }
   ],
   "source": [
    "getColor('Falta cubrir menton')"
   ]
  },
  {
   "cell_type": "code",
   "execution_count": 19,
   "id": "30d9bc7a",
   "metadata": {},
   "outputs": [],
   "source": [
    "#Reconocimiento\n",
    "#.1_Deteccion de cara\n",
    "imagen = cv2.imread('./Barbijo_bien_puesto_prueba.jpeg')\n",
    "img = imagen.copy()\n",
    "h, w = img.shape[:2]\n",
    "blob = cv2.dnn.blobFromImage(img,1,(300,300),(104,117,123),swapRB=True)\n",
    "modelo_deteccion_cara.setInput(blob)\n",
    "deteccion = modelo_deteccion_cara.forward()\n",
    "for i in range(0,deteccion.shape[2]):\n",
    "    confiabilidad = deteccion[0,0,i,2]\n",
    "    if confiabilidad > 0.5:\n",
    "        caja = deteccion[0,0,i,3:7]*np.array([w,h,w,h])\n",
    "        caja = caja.astype(int)\n",
    "        pt1 = (caja[0], caja[1])\n",
    "        pt2 = (caja[2], caja[3])\n",
    "        #cv2.rectangle(imagen,pt1,pt2,(0,255,0),2)\n",
    "        #.2_Preprocesar datos\n",
    "        cara = imagen[caja[1]:caja[3],caja[0]:caja[2]]\n",
    "        cara_blob = cv2.dnn.blobFromImage(cara,1,(150,150),(104,117,123),swapRB=True)\n",
    "        cara_blob_squeeze = np.squeeze(cara_blob).T\n",
    "        cara_blob_rotar = cv2.rotate(cara_blob_squeeze,cv2.ROTATE_90_CLOCKWISE)\n",
    "        cara_blob_voltear = cv2.flip(cara_blob_rotar,1)\n",
    "        img_norm = np.maximum(cara_blob_voltear,0)/cara_blob_voltear.max()\n",
    "#.3_Aprendizaje Profundo\n",
    "\n",
    "cv2.imshow('Prediccion',imagen)\n",
    "cv2.waitKey()\n",
    "cv2.destroyAllWindows()"
   ]
  },
  {
   "cell_type": "code",
   "execution_count": null,
   "id": "deeb1752",
   "metadata": {},
   "outputs": [],
   "source": []
  },
  {
   "cell_type": "code",
   "execution_count": null,
   "id": "68dce639",
   "metadata": {},
   "outputs": [],
   "source": []
  }
 ],
 "metadata": {
  "kernelspec": {
   "display_name": "Python 3 (ipykernel)",
   "language": "python",
   "name": "python3"
  },
  "language_info": {
   "codemirror_mode": {
    "name": "ipython",
    "version": 3
   },
   "file_extension": ".py",
   "mimetype": "text/x-python",
   "name": "python",
   "nbconvert_exporter": "python",
   "pygments_lexer": "ipython3",
   "version": "3.10.2"
  }
 },
 "nbformat": 4,
 "nbformat_minor": 5
}

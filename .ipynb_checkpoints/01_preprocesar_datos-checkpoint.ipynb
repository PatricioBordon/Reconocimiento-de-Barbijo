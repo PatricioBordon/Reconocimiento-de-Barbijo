{
 "cells": [
  {
   "cell_type": "code",
   "execution_count": 1,
   "id": "c1bd86bf",
   "metadata": {
    "scrolled": true
   },
   "outputs": [],
   "source": [
    "import os \n",
    "from glob import glob\n",
    "import numpy as np\n",
    "import pandas as pd\n",
    "import cv2\n",
    "import gc\n",
    "from tqdm import tqdm\n",
    "\n"
   ]
  },
  {
   "cell_type": "code",
   "execution_count": 2,
   "id": "e2f7443b",
   "metadata": {},
   "outputs": [],
   "source": [
    "directorios = os.listdir('data')\n",
    "#print(directorio)"
   ]
  },
  {
   "cell_type": "code",
   "execution_count": 3,
   "id": "b64e7ec8",
   "metadata": {},
   "outputs": [],
   "source": [
    "carpeta = 'Mask'\n",
    "#busqueda = glob('./data/{}/*.jpg'.format(carpeta))\n",
    "#print(busqueda)"
   ]
  },
  {
   "cell_type": "code",
   "execution_count": 4,
   "id": "292246be",
   "metadata": {},
   "outputs": [],
   "source": [
    "#etiqueta = ['{}'.format(carpeta)] * len(busqueda)\n",
    "#print(etiqueta)"
   ]
  },
  {
   "cell_type": "code",
   "execution_count": 5,
   "id": "3dc9a50e",
   "metadata": {
    "scrolled": false
   },
   "outputs": [],
   "source": [
    "imgs_busqueda = []\n",
    "etiquetas = []\n",
    "for carpeta in directorios:\n",
    "    busqueda = glob('./data/{}/*.jpg'.format(carpeta))\n",
    "    etiqueta = ['{}'.format(carpeta)] * len(busqueda)\n",
    "    imgs_busqueda.extend(busqueda)\n",
    "    etiquetas.extend(etiqueta)\n",
    "    #print(img_busqueda)"
   ]
  },
  {
   "cell_type": "code",
   "execution_count": 6,
   "id": "9cfa4f53",
   "metadata": {},
   "outputs": [],
   "source": [
    "img_busqueda = imgs_busqueda[1]\n",
    "imagen = cv2.imread(img_busqueda)\n",
    "#cv2.imshow('imagen',imagen) \n",
    "#cv2.waitKey()\n",
    "#cv2.destroyAllWindows"
   ]
  },
  {
   "cell_type": "code",
   "execution_count": 7,
   "id": "85f053b2",
   "metadata": {},
   "outputs": [],
   "source": [
    "#deteccion de cara\n",
    "modelo_deteccion_cara = cv2.dnn.readNetFromCaffe('./models/deploy.prototxt.txt', \n",
    "                                                './models/res10_300x300_ssd_iter_140000_fp16.caffemodel')"
   ]
  },
  {
   "cell_type": "code",
   "execution_count": 8,
   "id": "2ade9040",
   "metadata": {},
   "outputs": [],
   "source": [
    "def deteccion_cara_dnn(imagen):\n",
    "    #Substraccion RGB de la imagen\n",
    "    img = imagen.copy()\n",
    "    h,w = img.shape[:2]\n",
    "    blob = cv2.dnn.blobFromImage(img,1,(300,300),(104,117,123),swapRB=True)\n",
    "    #obtener la deteccion\n",
    "    modelo_deteccion_cara.setInput(blob)\n",
    "    deteccion = modelo_deteccion_cara.forward()\n",
    "#deteccion.shape -->(1, 1, 200, 7)\n",
    "    for i in range(0, deteccion.shape[2]):\n",
    "        confianza = deteccion[0,0,i,2]\n",
    "        if confianza > 0.5:\n",
    "            #print(confianza)\n",
    "            caja = deteccion[0,0,i,3:7]*np.array([w,h,w,h])\n",
    "            caja = caja.astype(int)\n",
    "            #print(caja) --> [216 142 802 801]\n",
    "            pt1 = (caja[0], caja[1])\n",
    "            pt2 = (caja[2], caja[3])\n",
    "            #cv2.rectangle(imagen,pt1,pt2,(0, 255, 70),2)\n",
    "            #recorte\n",
    "            recorte = imagen[caja[1]:caja[3], caja[0]:caja[2]]    \n",
    "            return recorte\n",
    "    return None      "
   ]
  },
  {
   "cell_type": "code",
   "execution_count": 9,
   "id": "8f47819d",
   "metadata": {},
   "outputs": [],
   "source": [
    "\n",
    "img_recortada = deteccion_cara_dnn(imagen)\n",
    "cv2.imshow('Imagen recortada', img_recortada)\n",
    "cv2.imshow('Imagen original', imagen)\n",
    "cv2.waitKey()\n",
    "cv2.destroyAllWindows()"
   ]
  },
  {
   "cell_type": "code",
   "execution_count": 10,
   "id": "7a5a6848",
   "metadata": {},
   "outputs": [],
   "source": [
    "def datapreprocess(imagen):\n",
    "    #blob From Image\n",
    "    cara = deteccion_cara_dnn(imagen)\n",
    "    if cara is not None:\n",
    "        #computing blob From Image\n",
    "        blob = cv2.dnn.blobFromImage(cara,1,(150,150),(104,117,123),swapRB = True)\n",
    "        blob_squeeze = np.squeeze(blob).T\n",
    "        blob_rotate = cv2.rotate(blob_squeeze,cv2.ROTATE_90_CLOCKWISE)\n",
    "        blob_flip = cv2.flip(blob_rotate, 1)\n",
    "        #blob_flip.max(), blob_flip.min()--->(151.0, -123.0)imagen negativa\n",
    "\n",
    "        #cv2.imshow('cara', cara)\n",
    "        #cv2.namedWindow('blob_flip',cv2.WINDOW_NORMAL)\n",
    "        #cv2.imshow('blob_flip',blob_flip)\n",
    "        #cv2.waitKey()\n",
    "        #cv2.destroyAllWindows()\n",
    "\n",
    "        #Remover valores negativos de la imagen y normalizar\n",
    "        imagen_norm = np.maximum(blob_flip,0)/blob_flip.max()\n",
    "        \n",
    "        return imagen_norm\n",
    "    else:\n",
    "        return None"
   ]
  },
  {
   "cell_type": "code",
   "execution_count": 15,
   "id": "3fa5ce73",
   "metadata": {},
   "outputs": [
    {
     "name": "stderr",
     "output_type": "stream",
     "text": [
      "Preprocesando: 10000it [13:56, 11.96it/s]\n"
     ]
    }
   ],
   "source": [
    "#len(imgs_busqueda)\n",
    "imagen_datos = []\n",
    "imagen_etiquetas = []\n",
    "i = 0\n",
    "for busqueda, etiqueta in tqdm(zip(imgs_busqueda, etiquetas),desc = 'Preprocesando'):\n",
    "    imagen = cv2.imread(busqueda)\n",
    "    imagen_procesada = datapreprocess(imagen)\n",
    "    if imagen_procesada is not None:\n",
    "        imagen_datos.append(imagen_procesada)\n",
    "        imagen_etiquetas.append(etiqueta)\n",
    "        \n",
    "    i += 1\n",
    "    if i%100 == 0:\n",
    "        gc.collect()"
   ]
  },
  {
   "cell_type": "code",
   "execution_count": 22,
   "id": "4982c07c",
   "metadata": {},
   "outputs": [],
   "source": [
    "#Convertir a lista\n",
    "X = np.array(imagen_datos)\n",
    "y = np.array(imagen_etiquetas)"
   ]
  },
  {
   "cell_type": "code",
   "execution_count": 23,
   "id": "c64ea3e0",
   "metadata": {},
   "outputs": [],
   "source": [
    "#X.shape -->(9959, 150, 150, 3)\n",
    "#y.shape -->(9959,)"
   ]
  },
  {
   "cell_type": "code",
   "execution_count": 25,
   "id": "f8cdad5f",
   "metadata": {},
   "outputs": [],
   "source": [
    "#Guardar datos preprocesados en numpy zip\n",
    "np.savez('./data/datos_Preprocesados.npz',X,y)"
   ]
  },
  {
   "cell_type": "code",
   "execution_count": null,
   "id": "80d6eeab",
   "metadata": {},
   "outputs": [],
   "source": []
  }
 ],
 "metadata": {
  "kernelspec": {
   "display_name": "Python 3 (ipykernel)",
   "language": "python",
   "name": "python3"
  },
  "language_info": {
   "codemirror_mode": {
    "name": "ipython",
    "version": 3
   },
   "file_extension": ".py",
   "mimetype": "text/x-python",
   "name": "python",
   "nbconvert_exporter": "python",
   "pygments_lexer": "ipython3",
   "version": "3.10.2"
  }
 },
 "nbformat": 4,
 "nbformat_minor": 5
}

{
 "cells": [
  {
   "cell_type": "code",
   "execution_count": 24,
   "id": "46d3daf7",
   "metadata": {},
   "outputs": [],
   "source": [
    "import os \n",
    "import numpy as np\n",
    "import cv2\n",
    "import gc"
   ]
  },
  {
   "cell_type": "code",
   "execution_count": 25,
   "id": "89cf8795",
   "metadata": {},
   "outputs": [],
   "source": [
    "#Cargar los datos preprocesados\n",
    "data = np.load('./data/datos_Preprocesados.npz')"
   ]
  },
  {
   "cell_type": "code",
   "execution_count": 26,
   "id": "6f88826c",
   "metadata": {},
   "outputs": [],
   "source": [
    "X = data['arr_0']\n",
    "y = data['arr_1']"
   ]
  },
  {
   "cell_type": "code",
   "execution_count": 27,
   "id": "b5a6703e",
   "metadata": {},
   "outputs": [],
   "source": [
    "#Comprobacion de datos cargados\n",
    "#X.shape, y.shape -->((9959, 150, 150, 3), (9959,))\n"
   ]
  },
  {
   "cell_type": "code",
   "execution_count": 28,
   "id": "43d1dccf",
   "metadata": {},
   "outputs": [],
   "source": [
    "#np.unique(y)-->array(['Mask', 'Mask_Chin', 'Mask_Mouth_Chin', 'Mask_Nose_Mouth'],\n",
    "#      dtype='<U15')"
   ]
  },
  {
   "cell_type": "code",
   "execution_count": 29,
   "id": "6e4ac6f4",
   "metadata": {},
   "outputs": [],
   "source": [
    "#Preprocesar \"y\"\n",
    "\n",
    "from sklearn.preprocessing import OneHotEncoder\n",
    "#La entrada a este transformador debe ser una matriz de números \n",
    "#enteros, indicando los valores tomados por características \n",
    "#categóricas (discretas).El resultado será una matriz dispersa \n",
    "#donde cada columna corresponde a un valor posible de una \n",
    "#característica.\n"
   ]
  },
  {
   "cell_type": "code",
   "execution_count": 30,
   "id": "a8673ea0",
   "metadata": {},
   "outputs": [],
   "source": [
    "onehot = OneHotEncoder()\n",
    "y_onehot = onehot.fit_transform(y.reshape(-1,1))"
   ]
  },
  {
   "cell_type": "code",
   "execution_count": 31,
   "id": "80de378e",
   "metadata": {},
   "outputs": [],
   "source": [
    "#y_onehot --><9959x4 sparse matrix of type '<class 'numpy.float64'>'\n",
    "#\twith 9959 stored elements in Compressed Sparse Row format"
   ]
  },
  {
   "cell_type": "code",
   "execution_count": 32,
   "id": "8669aa6d",
   "metadata": {},
   "outputs": [],
   "source": [
    "y_array = y_onehot.toarray()"
   ]
  },
  {
   "cell_type": "code",
   "execution_count": 33,
   "id": "c7796a02",
   "metadata": {},
   "outputs": [],
   "source": [
    "#y_array -->array([[1., 0., 0., 0.],\n",
    " #      [1., 0., 0., 0.],\n",
    " #      [1., 0., 0., 0.],\n",
    " #     ...,\n",
    " #      [0., 0., 0., 1.],\n",
    " #      [0., 0., 0., 1.],\n",
    " #      [0., 0., 0., 1.]])\n",
    "\n",
    "#Primer columna es para Mask\n",
    "#Primer columna es para Mask_Chin\n",
    "#Primer columna es para Mask_Mouth_Chin\n",
    "#Primer columna es para Mask_Nose_Mouth"
   ]
  },
  {
   "cell_type": "code",
   "execution_count": 34,
   "id": "c04eb53e",
   "metadata": {},
   "outputs": [],
   "source": [
    "#y_array.shape -->(9959, 4)"
   ]
  },
  {
   "cell_type": "code",
   "execution_count": 35,
   "id": "05a7a052",
   "metadata": {},
   "outputs": [],
   "source": [
    "#Dividir datos en el entrenamiento y las pruebas\n",
    "\n",
    "from sklearn.model_selection import train_test_split\n",
    "#Divido los datos en 80% entrenamiento y 20% para el mejor tipo\n",
    "x_train, x_test, y_train, y_test = train_test_split(X,y_array,test_size=0.2,random_state=42)"
   ]
  },
  {
   "cell_type": "code",
   "execution_count": 36,
   "id": "54fad7b5",
   "metadata": {},
   "outputs": [],
   "source": [
    "#x_train.shape, x_test.shape, y_train.shape, y_test.shape\n",
    "#((7967, 100, 100, 3), (1992, 100, 100, 3), (7967, 4), (1992, 4))"
   ]
  },
  {
   "cell_type": "code",
   "execution_count": 37,
   "id": "290dd94b",
   "metadata": {},
   "outputs": [],
   "source": [
    "import tensorflow as tf\n",
    "from tensorflow.keras import layers\n",
    "from tensorflow.keras import Sequential\n"
   ]
  },
  {
   "cell_type": "code",
   "execution_count": 38,
   "id": "c0dc26e7",
   "metadata": {},
   "outputs": [],
   "source": [
    "#Red Neuronal Convulsional\n",
    "\n",
    "Modelo = Sequential([\n",
    "    #Tres capas\n",
    "    layers.Conv2D(16,3,padding='same',input_shape=(100,100,3),activation='relu'),\n",
    "    layers.MaxPool2D(),\n",
    "    layers.Conv2D(32,3,padding='same',activation='relu'),\n",
    "    layers.MaxPool2D(),\n",
    "    layers.Conv2D(64,3,padding='same',activation='relu'),\n",
    "    layers.MaxPool2D(),\n",
    "    #Aplanar\n",
    "    layers.Flatten(),\n",
    "    layers.Dense(192,activation='relu'),\n",
    "    layers.Dense(28,activation='relu'),\n",
    "    #Funcion sigmoidea\n",
    "    #La función sigmoidea es una función logística matemática. \n",
    "    #Se usa comúnmente en estadísticas, procesamiento de señales de audio,\n",
    "    #bioquímica y la función de activación en neuronas artificiales. \n",
    "    #La fórmula para la función sigmoidea es F(x) = 1/(1 + e^(-x))\n",
    "    layers.Dense(4,activation='sigmoid')\n",
    "])\n",
    "#Compilar Red Neuronal Convulsional\n",
    "Modelo.compile(optimizer=tf.keras.optimizers.Adam(learning_rate=0.001),loss=tf.keras.losses.categorical_crossentropy,metrics=['accuracy'])"
   ]
  },
  {
   "cell_type": "code",
   "execution_count": 39,
   "id": "bf49f318",
   "metadata": {},
   "outputs": [],
   "source": [
    "#Modelo.summary()\n",
    "#Salida:\n",
    "#Model: \"sequential_9\"\n",
    "#_________________________________________________________________\n",
    "# Layer (type)                Output Shape              Param #   \n",
    "#=================================================================\n",
    "# conv2d_33 (Conv2D)          (None, 150, 150, 16)      448       \n",
    "#                                                                 \n",
    "# max_pooling2d_33 (MaxPoolin  (None, 75, 75, 16)       0         \n",
    "# g2D)                                                            \n",
    "#                                                                 \n",
    "# conv2d_34 (Conv2D)          (None, 75, 75, 32)        4640      \n",
    "#                                                                 \n",
    "# max_pooling2d_34 (MaxPoolin  (None, 37, 37, 32)       0         \n",
    "# g2D)                                                            \n",
    "#                                                                 \n",
    "# conv2d_35 (Conv2D)          (None, 37, 37, 64)        18496     \n",
    "#                                                                 \n",
    "# max_pooling2d_35 (MaxPoolin  (None, 18, 18, 64)       0         \n",
    "# g2D)                                                            \n",
    "#                                                                 \n",
    "# flatten_9 (Flatten)         (None, 20736)             0         \n",
    "#                                                                 \n",
    "# dense_27 (Dense)            (None, 192)               3981504   \n",
    "#                                                                 \n",
    "# dense_28 (Dense)            (None, 28)                5404      \n",
    "#                                                                 \n",
    "# dense_29 (Dense)            (None, 4)                 116       \n",
    "#                                                                 \n",
    "#=================================================================\n",
    "#Total params: 4,010,608\n",
    "#Trainable params: 4,010,608\n",
    "#Non-trainable params: 0\n",
    "#_________________________________________________________________"
   ]
  },
  {
   "cell_type": "code",
   "execution_count": 40,
   "id": "efd1c25d",
   "metadata": {},
   "outputs": [
    {
     "name": "stdout",
     "output_type": "stream",
     "text": [
      "Epoch 1/10\n",
      "266/266 [==============================] - 56s 207ms/step - loss: 0.2027 - accuracy: 0.9291 - val_loss: 0.0710 - val_accuracy: 0.9774\n",
      "Epoch 2/10\n",
      "266/266 [==============================] - 54s 201ms/step - loss: 0.0716 - accuracy: 0.9782 - val_loss: 0.0619 - val_accuracy: 0.9794\n",
      "Epoch 3/10\n",
      "266/266 [==============================] - 55s 207ms/step - loss: 0.0428 - accuracy: 0.9847 - val_loss: 0.0561 - val_accuracy: 0.9804\n",
      "Epoch 4/10\n",
      "266/266 [==============================] - 56s 211ms/step - loss: 0.0280 - accuracy: 0.9908 - val_loss: 0.0564 - val_accuracy: 0.9794\n",
      "Epoch 5/10\n",
      "266/266 [==============================] - 57s 213ms/step - loss: 0.0178 - accuracy: 0.9938 - val_loss: 0.0372 - val_accuracy: 0.9869\n",
      "Epoch 6/10\n",
      "266/266 [==============================] - 57s 214ms/step - loss: 0.0193 - accuracy: 0.9936 - val_loss: 0.0555 - val_accuracy: 0.9839\n",
      "Epoch 7/10\n",
      "266/266 [==============================] - 57s 214ms/step - loss: 0.0087 - accuracy: 0.9975 - val_loss: 0.0368 - val_accuracy: 0.9895\n",
      "Epoch 8/10\n",
      "266/266 [==============================] - 58s 218ms/step - loss: 0.0058 - accuracy: 0.9981 - val_loss: 0.0729 - val_accuracy: 0.9824\n",
      "Epoch 9/10\n",
      "266/266 [==============================] - 63s 236ms/step - loss: 0.0105 - accuracy: 0.9969 - val_loss: 0.0592 - val_accuracy: 0.9824\n",
      "Epoch 10/10\n",
      "266/266 [==============================] - 64s 240ms/step - loss: 0.0137 - accuracy: 0.9950 - val_loss: 0.0568 - val_accuracy: 0.9859\n"
     ]
    }
   ],
   "source": [
    "#Entrenamiento de Red Neuronal Convulcional\n",
    "\n",
    "history = Modelo.fit(x=x_train, y=y_train,validation_data=(x_test,y_test),batch_size=30,epochs=10)"
   ]
  },
  {
   "cell_type": "code",
   "execution_count": 41,
   "id": "3947a607",
   "metadata": {},
   "outputs": [],
   "source": [
    "import pandas as pd\n",
    "import matplotlib.pyplot as plt"
   ]
  },
  {
   "cell_type": "code",
   "execution_count": 42,
   "id": "c9d439ab",
   "metadata": {},
   "outputs": [],
   "source": [
    "history_df = pd.DataFrame(history.history)"
   ]
  },
  {
   "cell_type": "code",
   "execution_count": 43,
   "id": "f26c1dac",
   "metadata": {},
   "outputs": [
    {
     "data": {
      "text/html": [
       "<div>\n",
       "<style scoped>\n",
       "    .dataframe tbody tr th:only-of-type {\n",
       "        vertical-align: middle;\n",
       "    }\n",
       "\n",
       "    .dataframe tbody tr th {\n",
       "        vertical-align: top;\n",
       "    }\n",
       "\n",
       "    .dataframe thead th {\n",
       "        text-align: right;\n",
       "    }\n",
       "</style>\n",
       "<table border=\"1\" class=\"dataframe\">\n",
       "  <thead>\n",
       "    <tr style=\"text-align: right;\">\n",
       "      <th></th>\n",
       "      <th>loss</th>\n",
       "      <th>accuracy</th>\n",
       "      <th>val_loss</th>\n",
       "      <th>val_accuracy</th>\n",
       "    </tr>\n",
       "  </thead>\n",
       "  <tbody>\n",
       "    <tr>\n",
       "      <th>0</th>\n",
       "      <td>0.202679</td>\n",
       "      <td>0.929082</td>\n",
       "      <td>0.071024</td>\n",
       "      <td>0.977410</td>\n",
       "    </tr>\n",
       "    <tr>\n",
       "      <th>1</th>\n",
       "      <td>0.071595</td>\n",
       "      <td>0.978160</td>\n",
       "      <td>0.061936</td>\n",
       "      <td>0.979418</td>\n",
       "    </tr>\n",
       "    <tr>\n",
       "      <th>2</th>\n",
       "      <td>0.042824</td>\n",
       "      <td>0.984687</td>\n",
       "      <td>0.056118</td>\n",
       "      <td>0.980422</td>\n",
       "    </tr>\n",
       "    <tr>\n",
       "      <th>3</th>\n",
       "      <td>0.028021</td>\n",
       "      <td>0.990837</td>\n",
       "      <td>0.056429</td>\n",
       "      <td>0.979418</td>\n",
       "    </tr>\n",
       "    <tr>\n",
       "      <th>4</th>\n",
       "      <td>0.017837</td>\n",
       "      <td>0.993850</td>\n",
       "      <td>0.037174</td>\n",
       "      <td>0.986948</td>\n",
       "    </tr>\n",
       "    <tr>\n",
       "      <th>5</th>\n",
       "      <td>0.019327</td>\n",
       "      <td>0.993599</td>\n",
       "      <td>0.055537</td>\n",
       "      <td>0.983936</td>\n",
       "    </tr>\n",
       "    <tr>\n",
       "      <th>6</th>\n",
       "      <td>0.008749</td>\n",
       "      <td>0.997490</td>\n",
       "      <td>0.036803</td>\n",
       "      <td>0.989458</td>\n",
       "    </tr>\n",
       "    <tr>\n",
       "      <th>7</th>\n",
       "      <td>0.005753</td>\n",
       "      <td>0.998117</td>\n",
       "      <td>0.072936</td>\n",
       "      <td>0.982430</td>\n",
       "    </tr>\n",
       "    <tr>\n",
       "      <th>8</th>\n",
       "      <td>0.010460</td>\n",
       "      <td>0.996862</td>\n",
       "      <td>0.059231</td>\n",
       "      <td>0.982430</td>\n",
       "    </tr>\n",
       "    <tr>\n",
       "      <th>9</th>\n",
       "      <td>0.013724</td>\n",
       "      <td>0.994979</td>\n",
       "      <td>0.056802</td>\n",
       "      <td>0.985944</td>\n",
       "    </tr>\n",
       "  </tbody>\n",
       "</table>\n",
       "</div>"
      ],
      "text/plain": [
       "       loss  accuracy  val_loss  val_accuracy\n",
       "0  0.202679  0.929082  0.071024      0.977410\n",
       "1  0.071595  0.978160  0.061936      0.979418\n",
       "2  0.042824  0.984687  0.056118      0.980422\n",
       "3  0.028021  0.990837  0.056429      0.979418\n",
       "4  0.017837  0.993850  0.037174      0.986948\n",
       "5  0.019327  0.993599  0.055537      0.983936\n",
       "6  0.008749  0.997490  0.036803      0.989458\n",
       "7  0.005753  0.998117  0.072936      0.982430\n",
       "8  0.010460  0.996862  0.059231      0.982430\n",
       "9  0.013724  0.994979  0.056802      0.985944"
      ]
     },
     "execution_count": 43,
     "metadata": {},
     "output_type": "execute_result"
    }
   ],
   "source": [
    "history_df"
   ]
  },
  {
   "cell_type": "code",
   "execution_count": 44,
   "id": "d2b134c0",
   "metadata": {},
   "outputs": [
    {
     "data": {
      "image/png": "[encoded data removed]",
      "text/plain": [
       "<Figure size 432x288 with 1 Axes>"
      ]
     },
     "metadata": {
      "needs_background": "light"
     },
     "output_type": "display_data"
    }
   ],
   "source": [
    "history_df[['loss','val_loss']].plot(kind='line')\n",
    "plt.xlabel('Epochs')\n",
    "plt.ylabel('Loss')\n",
    "plt.xticks(list(range(10)),list(range(1,11)))\n",
    "plt.show()"
   ]
  },
  {
   "cell_type": "code",
   "execution_count": 45,
   "id": "b1d0f81c",
   "metadata": {},
   "outputs": [
    {
     "data": {
      "image/png": "[encoded data removed]",
      "text/plain": [
       "<Figure size 432x288 with 1 Axes>"
      ]
     },
     "metadata": {
      "needs_background": "light"
     },
     "output_type": "display_data"
    }
   ],
   "source": [
    "history_df[['accuracy','val_accuracy']].plot(kind='line')\n",
    "plt.xlabel('Epochs')\n",
    "plt.ylabel('Loss')\n",
    "plt.xticks(list(range(10)),list(range(1,11)))\n",
    "plt.show()"
   ]
  },
  {
   "cell_type": "code",
   "execution_count": 48,
   "id": "739a57e3",
   "metadata": {},
   "outputs": [
    {
     "name": "stdout",
     "output_type": "stream",
     "text": [
      "INFO:tensorflow:Assets written to: Modelo_cara_CNN\\assets\n"
     ]
    }
   ],
   "source": [
    "#Guardar Modelo \n",
    "Modelo.save('Modelo_cara_CNN')"
   ]
  },
  {
   "cell_type": "code",
   "execution_count": 49,
   "id": "bedb02d1",
   "metadata": {},
   "outputs": [
    {
     "data": {
      "text/plain": [
       "[array(['Mask', 'Mask_Chin', 'Mask_Mouth_Chin', 'Mask_Nose_Mouth'],\n",
       "       dtype='<U15')]"
      ]
     },
     "execution_count": 49,
     "metadata": {},
     "output_type": "execute_result"
    }
   ],
   "source": [
    "onehot.categories_"
   ]
  },
  {
   "cell_type": "code",
   "execution_count": null,
   "id": "f5f312e0",
   "metadata": {},
   "outputs": [],
   "source": []
  }
 ],
 "metadata": {
  "kernelspec": {
   "display_name": "Python 3 (ipykernel)",
   "language": "python",
   "name": "python3"
  },
  "language_info": {
   "codemirror_mode": {
    "name": "ipython",
    "version": 3
   },
   "file_extension": ".py",
   "mimetype": "text/x-python",
   "name": "python",
   "nbconvert_exporter": "python",
   "pygments_lexer": "ipython3",
   "version": "3.10.2"
  }
 },
 "nbformat": 4,
 "nbformat_minor": 5
}

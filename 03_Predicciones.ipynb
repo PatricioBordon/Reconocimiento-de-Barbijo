{
 "cells": [
  {
   "cell_type": "code",
   "execution_count": 12,
   "id": "6d45ae77",
   "metadata": {},
   "outputs": [],
   "source": [
    "%config IPCompleter.greedy=True"
   ]
  },
  {
   "cell_type": "code",
   "execution_count": 1,
   "id": "6de798f6",
   "metadata": {},
   "outputs": [],
   "source": [
    "import numpy as np\n",
    "import cv2\n",
    "import tensorflow as tf"
   ]
  },
  {
   "cell_type": "code",
   "execution_count": 2,
   "id": "87246f83",
   "metadata": {},
   "outputs": [],
   "source": [
    "from scipy.special import softmax"
   ]
  },
  {
   "cell_type": "code",
   "execution_count": 3,
   "id": "e2a9d03e",
   "metadata": {},
   "outputs": [],
   "source": [
    "#Modelo de deteccion de caras\n",
    "modelo_deteccion_cara = cv2.dnn.readNetFromCaffe('./models/deploy.prototxt.txt',\n",
    "                                                './models/res10_300x300_ssd_iter_140000_fp16.caffemodel')\n",
    "#Modelo de deteccion de barbijo\n",
    "Modelo = tf.keras.models.load_model('Modelo_cara_CNN/')"
   ]
  },
  {
   "cell_type": "code",
   "execution_count": 4,
   "id": "37c005b7",
   "metadata": {},
   "outputs": [],
   "source": [
    "#Informacion de las etiquetas\n",
    "etiquetas = ['Barbijo bien puesto', 'Sin Barbijo', 'Falta cubrir nariz', 'Falta cubrir menton']\n",
    "\n",
    "def getColor (etiqueta):\n",
    "    if etiqueta =='Barbijo bien puesto':\n",
    "        color=(0,255,0)\n",
    "\n",
    "    elif etiqueta == 'Sin Barbijo':\n",
    "        color = (0,0,255)\n",
    "\n",
    "    elif etiqueta == '':\n",
    "        color = (0,0,0)\n",
    "\n",
    "    else:\n",
    "        color = (0,0,0)\n",
    "    return color"
   ]
  },
  {
   "cell_type": "code",
   "execution_count": 5,
   "id": "edbd86e8",
   "metadata": {},
   "outputs": [],
   "source": [
    "#getColor('Falta cubrir menton')"
   ]
  },
  {
   "cell_type": "code",
   "execution_count": 6,
   "id": "30d9bc7a",
   "metadata": {},
   "outputs": [],
   "source": [
    "#Reconocimiento\n",
    "#.1_Deteccion de cara\n",
    "def prediccion (imagen):\n",
    "    \n",
    "    img = imagen.copy()\n",
    "    h, w = img.shape[:2]\n",
    "    blob = cv2.dnn.blobFromImage(img,1,(300,300),(104,117,123),swapRB=True)\n",
    "    modelo_deteccion_cara.setInput(blob)\n",
    "    deteccion = modelo_deteccion_cara.forward()\n",
    "    for i in range(0,deteccion.shape[2]):\n",
    "        confiabilidad = deteccion[0,0,i,2]\n",
    "        if confiabilidad > 0.5:\n",
    "            caja = deteccion[0,0,i,3:7]*np.array([w,h,w,h])\n",
    "            caja = caja.astype(int)\n",
    "            pt1 = (caja[0], caja[1])\n",
    "            pt2 = (caja[2], caja[3])\n",
    "            #cv2.rectangle(imagen,pt1,pt2,(0,255,0),2)\n",
    "            #.2_Preprocesar datos\n",
    "            cara = imagen[caja[1]:caja[3],caja[0]:caja[2]]\n",
    "            cara_blob = cv2.dnn.blobFromImage(cara,1,(100,100),(104,117,123),swapRB=True)\n",
    "            cara_blob_squeeze = np.squeeze(cara_blob).T\n",
    "            cara_blob_rotar = cv2.rotate(cara_blob_squeeze,cv2.ROTATE_90_CLOCKWISE)\n",
    "            cara_blob_voltear = cv2.flip(cara_blob_rotar,1)\n",
    "            #Normalizacion\n",
    "            img_norm = np.maximum(cara_blob_voltear,0)/cara_blob_voltear.max()\n",
    "            #.3_Aprendizaje Profundo\n",
    "            img_Input = img_norm.reshape(1,100,100,3)\n",
    "            Resultado = Modelo.predict(img_Input)\n",
    "            Resultado = softmax(Resultado)[0]\n",
    "            Confianza_Indice = Resultado.argmax()\n",
    "            Confianza_Puntaje = Resultado[Confianza_Indice]\n",
    "            etiqueta = etiquetas[Confianza_Indice]\n",
    "            etiqueta_texto = '{}'.format(etiqueta,)\n",
    "            #print(etiqueta_texto)\n",
    "            #Mostrar cuadro\n",
    "            color = getColor(etiqueta)\n",
    "            cv2.rectangle(imagen, pt1, pt2, color, 1)\n",
    "            cv2.putText(imagen, etiqueta_texto, pt1, cv2.FONT_HERSHEY_PLAIN, 1, color, 1)\n",
    "    return imagen\n",
    "        \n"
   ]
  },
  {
   "cell_type": "code",
   "execution_count": 7,
   "id": "deeb1752",
   "metadata": {},
   "outputs": [],
   "source": [
    "#softmax(Resultado)"
   ]
  },
  {
   "cell_type": "code",
   "execution_count": 8,
   "id": "68dce639",
   "metadata": {},
   "outputs": [],
   "source": [
    "imagen = cv2.imread('./barbijo-negro.jpg')\n",
    "\n",
    "img = prediccion(imagen)\n",
    "\n",
    "cv2.imshow('Prediccion',imagen)\n",
    "cv2.waitKey()\n",
    "cv2.destroyAllWindows()"
   ]
  },
  {
   "cell_type": "code",
   "execution_count": 10,
   "id": "6c9f65e4",
   "metadata": {},
   "outputs": [],
   "source": [
    "#Deteccion de barbijo en tiempo real\n",
    "cap = cv2.VideoCapture(0)\n",
    "while True:\n",
    "    ret, frames = cap.read()\n",
    "    if ret == False:\n",
    "        break\n",
    "    \n",
    "    imagen = prediccion(frames)\n",
    "    cv2.imshow('Probando 1 2 3...', imagen)\n",
    "    if cv2.waitKey(1) == 27:\n",
    "        break\n",
    "    \n",
    "cap.release()\n",
    "cv2.destroyAllWindows()"
   ]
  },
  {
   "cell_type": "code",
   "execution_count": null,
   "id": "db25f79a",
   "metadata": {},
   "outputs": [],
   "source": []
  },
  {
   "cell_type": "code",
   "execution_count": null,
   "id": "dacaefb5",
   "metadata": {},
   "outputs": [],
   "source": []
  }
 ],
 "metadata": {
  "kernelspec": {
   "display_name": "Python 3 (ipykernel)",
   "language": "python",
   "name": "python3"
  },
  "language_info": {
   "codemirror_mode": {
    "name": "ipython",
    "version": 3
   },
   "file_extension": ".py",
   "mimetype": "text/x-python",
   "name": "python",
   "nbconvert_exporter": "python",
   "pygments_lexer": "ipython3",
   "version": "3.10.2"
  }
 },
 "nbformat": 4,
 "nbformat_minor": 5
}

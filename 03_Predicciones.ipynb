{
 "cells": [
  {
   "cell_type": "code",
   "execution_count": 2,
   "id": "6d45ae77",
   "metadata": {},
   "outputs": [],
   "source": [
    "%config IPCompleter.greedy=True"
   ]
  },
  {
   "cell_type": "code",
   "execution_count": 3,
   "id": "6de798f6",
   "metadata": {},
   "outputs": [],
   "source": [
    "import numpy as np\n",
    "import cv2\n",
    "import tensorflow as tf"
   ]
  },
  {
   "cell_type": "code",
   "execution_count": 4,
   "id": "87246f83",
   "metadata": {},
   "outputs": [],
   "source": [
    "from scipy.special import softmax"
   ]
  },
  {
   "cell_type": "code",
   "execution_count": 6,
   "id": "e2a9d03e",
   "metadata": {},
   "outputs": [
    {
     "ename": "OSError",
     "evalue": "No file or directory found at Modelo_cara_CNN/",
     "output_type": "error",
     "traceback": [
      "\u001b[1;31m---------------------------------------------------------------------------\u001b[0m",
      "\u001b[1;31mOSError\u001b[0m                                   Traceback (most recent call last)",
      "\u001b[1;32mc:\\Cursos\\Udemy\\facemask\\Reconocimiento-de-Barbijo\\03_Predicciones.ipynb Cell 4'\u001b[0m in \u001b[0;36m<module>\u001b[1;34m\u001b[0m\n\u001b[0;32m      <a href='vscode-notebook-cell:/c%3A/Cursos/Udemy/facemask/Reconocimiento-de-Barbijo/03_Predicciones.ipynb#ch0000003?line=1'>2</a>\u001b[0m modelo_deteccion_cara \u001b[39m=\u001b[39m cv2\u001b[39m.\u001b[39mdnn\u001b[39m.\u001b[39mreadNetFromCaffe(\u001b[39m'\u001b[39m\u001b[39m./models/deploy.prototxt.txt\u001b[39m\u001b[39m'\u001b[39m,\n\u001b[0;32m      <a href='vscode-notebook-cell:/c%3A/Cursos/Udemy/facemask/Reconocimiento-de-Barbijo/03_Predicciones.ipynb#ch0000003?line=2'>3</a>\u001b[0m                                                 \u001b[39m'\u001b[39m\u001b[39m./models/res10_300x300_ssd_iter_140000_fp16.caffemodel\u001b[39m\u001b[39m'\u001b[39m)\n\u001b[0;32m      <a href='vscode-notebook-cell:/c%3A/Cursos/Udemy/facemask/Reconocimiento-de-Barbijo/03_Predicciones.ipynb#ch0000003?line=3'>4</a>\u001b[0m \u001b[39m#Modelo de deteccion de barbijo\u001b[39;00m\n\u001b[1;32m----> <a href='vscode-notebook-cell:/c%3A/Cursos/Udemy/facemask/Reconocimiento-de-Barbijo/03_Predicciones.ipynb#ch0000003?line=4'>5</a>\u001b[0m Modelo \u001b[39m=\u001b[39m tf\u001b[39m.\u001b[39;49mkeras\u001b[39m.\u001b[39;49mmodels\u001b[39m.\u001b[39;49mload_model(\u001b[39m'\u001b[39;49m\u001b[39mModelo_cara_CNN/\u001b[39;49m\u001b[39m'\u001b[39;49m)\n",
      "File \u001b[1;32m~\\AppData\\Roaming\\Python\\Python310\\site-packages\\keras\\utils\\traceback_utils.py:67\u001b[0m, in \u001b[0;36mfilter_traceback.<locals>.error_handler\u001b[1;34m(*args, **kwargs)\u001b[0m\n\u001b[0;32m     <a href='file:///~/AppData/Roaming/Python/Python310/site-packages/keras/utils/traceback_utils.py?line=64'>65</a>\u001b[0m \u001b[39mexcept\u001b[39;00m \u001b[39mException\u001b[39;00m \u001b[39mas\u001b[39;00m e:  \u001b[39m# pylint: disable=broad-except\u001b[39;00m\n\u001b[0;32m     <a href='file:///~/AppData/Roaming/Python/Python310/site-packages/keras/utils/traceback_utils.py?line=65'>66</a>\u001b[0m   filtered_tb \u001b[39m=\u001b[39m _process_traceback_frames(e\u001b[39m.\u001b[39m__traceback__)\n\u001b[1;32m---> <a href='file:///~/AppData/Roaming/Python/Python310/site-packages/keras/utils/traceback_utils.py?line=66'>67</a>\u001b[0m   \u001b[39mraise\u001b[39;00m e\u001b[39m.\u001b[39mwith_traceback(filtered_tb) \u001b[39mfrom\u001b[39;00m \u001b[39mNone\u001b[39m\n\u001b[0;32m     <a href='file:///~/AppData/Roaming/Python/Python310/site-packages/keras/utils/traceback_utils.py?line=67'>68</a>\u001b[0m \u001b[39mfinally\u001b[39;00m:\n\u001b[0;32m     <a href='file:///~/AppData/Roaming/Python/Python310/site-packages/keras/utils/traceback_utils.py?line=68'>69</a>\u001b[0m   \u001b[39mdel\u001b[39;00m filtered_tb\n",
      "File \u001b[1;32m~\\AppData\\Roaming\\Python\\Python310\\site-packages\\keras\\saving\\save.py:204\u001b[0m, in \u001b[0;36mload_model\u001b[1;34m(filepath, custom_objects, compile, options)\u001b[0m\n\u001b[0;32m    <a href='file:///~/AppData/Roaming/Python/Python310/site-packages/keras/saving/save.py?line=201'>202</a>\u001b[0m \u001b[39mif\u001b[39;00m \u001b[39misinstance\u001b[39m(filepath_str, \u001b[39mstr\u001b[39m):\n\u001b[0;32m    <a href='file:///~/AppData/Roaming/Python/Python310/site-packages/keras/saving/save.py?line=202'>203</a>\u001b[0m   \u001b[39mif\u001b[39;00m \u001b[39mnot\u001b[39;00m tf\u001b[39m.\u001b[39mio\u001b[39m.\u001b[39mgfile\u001b[39m.\u001b[39mexists(filepath_str):\n\u001b[1;32m--> <a href='file:///~/AppData/Roaming/Python/Python310/site-packages/keras/saving/save.py?line=203'>204</a>\u001b[0m     \u001b[39mraise\u001b[39;00m \u001b[39mIOError\u001b[39;00m(\u001b[39mf\u001b[39m\u001b[39m'\u001b[39m\u001b[39mNo file or directory found at \u001b[39m\u001b[39m{\u001b[39;00mfilepath_str\u001b[39m}\u001b[39;00m\u001b[39m'\u001b[39m)\n\u001b[0;32m    <a href='file:///~/AppData/Roaming/Python/Python310/site-packages/keras/saving/save.py?line=205'>206</a>\u001b[0m   \u001b[39mif\u001b[39;00m tf\u001b[39m.\u001b[39mio\u001b[39m.\u001b[39mgfile\u001b[39m.\u001b[39misdir(filepath_str):\n\u001b[0;32m    <a href='file:///~/AppData/Roaming/Python/Python310/site-packages/keras/saving/save.py?line=206'>207</a>\u001b[0m     \u001b[39mreturn\u001b[39;00m saved_model_load\u001b[39m.\u001b[39mload(filepath_str, \u001b[39mcompile\u001b[39m, options)\n",
      "\u001b[1;31mOSError\u001b[0m: No file or directory found at Modelo_cara_CNN/"
     ]
    }
   ],
   "source": [
    "#Modelo de deteccion de caras\n",
    "modelo_deteccion_cara = cv2.dnn.readNetFromCaffe('./models/deploy.prototxt.txt',\n",
    "                                                './models/res10_300x300_ssd_iter_140000_fp16.caffemodel')\n",
    "#Modelo de deteccion de barbijo\n",
    "Modelo = tf.keras.models.load_model('Modelo_cara_CNN/')"
   ]
  },
  {
   "cell_type": "code",
   "execution_count": 4,
   "id": "37c005b7",
   "metadata": {},
   "outputs": [],
   "source": [
    "#Informacion de las etiquetas\n",
    "etiquetas = ['Barbijo bien puesto', 'Sin Barbijo', 'Falta cubrir nariz', 'Falta cubrir menton']\n",
    "\n",
    "def getColor (etiqueta):\n",
    "    if etiqueta =='Barbijo bien puesto':\n",
    "        color=(0,255,0)\n",
    "\n",
    "    elif etiqueta == 'Sin Barbijo':\n",
    "        color = (0,0,255)\n",
    "\n",
    "    elif etiqueta == '':\n",
    "        color = (0,0,0)\n",
    "\n",
    "    else:\n",
    "        color = (0,0,0)\n",
    "    return color"
   ]
  },
  {
   "cell_type": "code",
   "execution_count": 5,
   "id": "edbd86e8",
   "metadata": {},
   "outputs": [],
   "source": [
    "#getColor('Falta cubrir menton')"
   ]
  },
  {
   "cell_type": "code",
   "execution_count": 6,
   "id": "30d9bc7a",
   "metadata": {},
   "outputs": [],
   "source": [
    "#Reconocimiento\n",
    "#.1_Deteccion de cara\n",
    "def prediccion (imagen):\n",
    "    \n",
    "    img = imagen.copy()\n",
    "    h, w = img.shape[:2]\n",
    "    blob = cv2.dnn.blobFromImage(img,1,(300,300),(104,117,123),swapRB=True)\n",
    "    modelo_deteccion_cara.setInput(blob)\n",
    "    deteccion = modelo_deteccion_cara.forward()\n",
    "    for i in range(0,deteccion.shape[2]):\n",
    "        confiabilidad = deteccion[0,0,i,2]\n",
    "        if confiabilidad > 0.5:\n",
    "            caja = deteccion[0,0,i,3:7]*np.array([w,h,w,h])\n",
    "            caja = caja.astype(int)\n",
    "            pt1 = (caja[0], caja[1])\n",
    "            pt2 = (caja[2], caja[3])\n",
    "            #cv2.rectangle(imagen,pt1,pt2,(0,255,0),2)\n",
    "            #.2_Preprocesar datos\n",
    "            cara = imagen[caja[1]:caja[3],caja[0]:caja[2]]\n",
    "            cara_blob = cv2.dnn.blobFromImage(cara,1,(100,100),(104,117,123),swapRB=True)\n",
    "            cara_blob_squeeze = np.squeeze(cara_blob).T\n",
    "            cara_blob_rotar = cv2.rotate(cara_blob_squeeze,cv2.ROTATE_90_CLOCKWISE)\n",
    "            cara_blob_voltear = cv2.flip(cara_blob_rotar,1)\n",
    "            #Normalizacion\n",
    "            img_norm = np.maximum(cara_blob_voltear,0)/cara_blob_voltear.max()\n",
    "            #.3_Aprendizaje Profundo\n",
    "            img_Input = img_norm.reshape(1,100,100,3)\n",
    "            Resultado = Modelo.predict(img_Input)\n",
    "            Resultado = softmax(Resultado)[0]\n",
    "            Confianza_Indice = Resultado.argmax()\n",
    "            Confianza_Puntaje = Resultado[Confianza_Indice]\n",
    "            etiqueta = etiquetas[Confianza_Indice]\n",
    "            etiqueta_texto = '{}'.format(etiqueta,)\n",
    "            #print(etiqueta_texto)\n",
    "            #Mostrar cuadro\n",
    "            color = getColor(etiqueta)\n",
    "            cv2.rectangle(imagen, pt1, pt2, color, 1)\n",
    "            cv2.putText(imagen, etiqueta_texto, pt1, cv2.FONT_HERSHEY_PLAIN, 1, color, 1)\n",
    "    return imagen\n",
    "        \n"
   ]
  },
  {
   "cell_type": "code",
   "execution_count": 7,
   "id": "deeb1752",
   "metadata": {},
   "outputs": [],
   "source": [
    "#softmax(Resultado)"
   ]
  },
  {
   "cell_type": "code",
   "execution_count": 8,
   "id": "68dce639",
   "metadata": {},
   "outputs": [],
   "source": [
    "imagen = cv2.imread('./barbijo-negro.jpg')\n",
    "\n",
    "img = prediccion(imagen)\n",
    "\n",
    "cv2.imshow('Prediccion',imagen)\n",
    "cv2.waitKey()\n",
    "cv2.destroyAllWindows()"
   ]
  },
  {
   "cell_type": "code",
   "execution_count": 1,
   "id": "6c9f65e4",
   "metadata": {},
   "outputs": [
    {
     "ename": "NameError",
     "evalue": "name 'cv2' is not defined",
     "output_type": "error",
     "traceback": [
      "\u001b[1;31m---------------------------------------------------------------------------\u001b[0m",
      "\u001b[1;31mNameError\u001b[0m                                 Traceback (most recent call last)",
      "\u001b[1;32mc:\\Cursos\\Udemy\\facemask\\Reconocimiento-de-Barbijo\\03_Predicciones.ipynb Cell 10'\u001b[0m in \u001b[0;36m<module>\u001b[1;34m\u001b[0m\n\u001b[0;32m      <a href='vscode-notebook-cell:/c%3A/Cursos/Udemy/facemask/Reconocimiento-de-Barbijo/03_Predicciones.ipynb#ch0000009?line=0'>1</a>\u001b[0m \u001b[39m#Deteccion de barbijo en tiempo real\u001b[39;00m\n\u001b[1;32m----> <a href='vscode-notebook-cell:/c%3A/Cursos/Udemy/facemask/Reconocimiento-de-Barbijo/03_Predicciones.ipynb#ch0000009?line=1'>2</a>\u001b[0m cap \u001b[39m=\u001b[39m cv2\u001b[39m.\u001b[39mVideoCapture(\u001b[39m0\u001b[39m)\n\u001b[0;32m      <a href='vscode-notebook-cell:/c%3A/Cursos/Udemy/facemask/Reconocimiento-de-Barbijo/03_Predicciones.ipynb#ch0000009?line=2'>3</a>\u001b[0m \u001b[39mwhile\u001b[39;00m \u001b[39mTrue\u001b[39;00m:\n\u001b[0;32m      <a href='vscode-notebook-cell:/c%3A/Cursos/Udemy/facemask/Reconocimiento-de-Barbijo/03_Predicciones.ipynb#ch0000009?line=3'>4</a>\u001b[0m     ret, frames \u001b[39m=\u001b[39m cap\u001b[39m.\u001b[39mread()\n",
      "\u001b[1;31mNameError\u001b[0m: name 'cv2' is not defined"
     ]
    }
   ],
   "source": [
    "#Deteccion de barbijo en tiempo real\n",
    "cap = cv2.VideoCapture(0)\n",
    "while True:\n",
    "    ret, frames = cap.read()\n",
    "    if ret == False:\n",
    "        break\n",
    "    \n",
    "    imagen = prediccion(frames)\n",
    "    cv2.imshow('Probando 1 2 3...', imagen)\n",
    "    if cv2.waitKey(1) == 27:\n",
    "        break\n",
    "    \n",
    "cap.release()\n",
    "cv2.destroyAllWindows()"
   ]
  },
  {
   "cell_type": "code",
   "execution_count": null,
   "id": "db25f79a",
   "metadata": {},
   "outputs": [],
   "source": []
  },
  {
   "cell_type": "code",
   "execution_count": null,
   "id": "dacaefb5",
   "metadata": {},
   "outputs": [],
   "source": []
  }
 ],
 "metadata": {
  "kernelspec": {
   "display_name": "Python 3 (ipykernel)",
   "language": "python",
   "name": "python3"
  },
  "language_info": {
   "codemirror_mode": {
    "name": "ipython",
    "version": 3
   },
   "file_extension": ".py",
   "mimetype": "text/x-python",
   "name": "python",
   "nbconvert_exporter": "python",
   "pygments_lexer": "ipython3",
   "version": "3.10.2"
  }
 },
 "nbformat": 4,
 "nbformat_minor": 5
}
